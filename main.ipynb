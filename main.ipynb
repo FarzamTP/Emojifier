{
 "cells": [
  {
   "cell_type": "code",
   "execution_count": 42,
   "metadata": {},
   "outputs": [],
   "source": [
    "%config Completer.use_jedi = False\n",
    "import numpy as np\n",
    "from utils import *\n",
    "import matplotlib.pyplot as plt\n",
    "from keras.layers import *\n",
    "from keras import Model\n",
    "from keras.models import load_model\n",
    "%matplotlib inline"
   ]
  },
  {
   "cell_type": "code",
   "execution_count": 2,
   "metadata": {},
   "outputs": [],
   "source": [
    "emoji_dictionary = {\"0\": \":heart:\",\n",
    "                    \"1\": \":baseball:\",\n",
    "                    \"2\": \":smile:\",\n",
    "                    \"3\": \":disappointed:\",\n",
    "                    \"4\": \":fork_and_knife:\"}"
   ]
  },
  {
   "cell_type": "code",
   "execution_count": 3,
   "metadata": {},
   "outputs": [],
   "source": [
    "X_train, Y_train = extract_X_Y('./data/train_emoji.csv')\n",
    "X_test, Y_test = extract_X_Y('./data/test_emoji.csv')"
   ]
  },
  {
   "cell_type": "markdown",
   "metadata": {},
   "source": [
    "### One-Hot encoding labels"
   ]
  },
  {
   "cell_type": "code",
   "execution_count": 4,
   "metadata": {},
   "outputs": [],
   "source": [
    "oh_Y_train = one_hot(Y_train.values, 5)\n",
    "oh_Y_test = one_hot(Y_test.values, 5)"
   ]
  },
  {
   "cell_type": "code",
   "execution_count": 5,
   "metadata": {},
   "outputs": [
    {
     "name": "stdout",
     "output_type": "stream",
     "text": [
      "X_train Shape: (131,)\n",
      "Y_train Shape: (131, 5)\n",
      "X_test Shape: (55,)\n",
      "Y_test Shape: (55, 5)\n"
     ]
    }
   ],
   "source": [
    "print(\"X_train Shape:\", X_train.shape)\n",
    "print(\"Y_train Shape:\", oh_Y_train.shape)\n",
    "print(\"X_test Shape:\", X_test.shape)\n",
    "print(\"Y_test Shape:\", oh_Y_test.shape)"
   ]
  },
  {
   "cell_type": "code",
   "execution_count": 6,
   "metadata": {},
   "outputs": [
    {
     "name": "stdout",
     "output_type": "stream",
     "text": [
      "I think I will end up alone 😞\n",
      "Label index 3 is one-hot encoded as: [0. 0. 0. 1. 0.]\n"
     ]
    }
   ],
   "source": [
    "idx = 50\n",
    "print(X_train[idx], label_to_emoji(str(Y_train[idx]), emoji_dictionary))\n",
    "print(\"Label index %d is one-hot encoded as:\" % Y_train[idx], oh_Y_train[idx])"
   ]
  },
  {
   "cell_type": "markdown",
   "metadata": {},
   "source": [
    "### Implementing Emojifier V-1"
   ]
  },
  {
   "cell_type": "markdown",
   "metadata": {},
   "source": [
    "![Emojifier V-1](./images/Emojifier-V1.png)\n",
    "\n",
    "#### Inputs and outputs\n",
    "* The input of the model is a string corresponding to a sentence (e.g. \"I love you). \n",
    "* The output will be a probability vector of shape (1,5), (there are 5 emojis to choose from).\n",
    "* The (1,5) probability vector is passed to an argmax layer, which extracts the index of the emoji with the highest probability."
   ]
  },
  {
   "cell_type": "markdown",
   "metadata": {},
   "source": [
    "### Glove Word Vector\n",
    "\n",
    "[GloVe](https://nlp.stanford.edu/projects/glove/) is an unsupervised learning algorithm for obtaining vector representations for words. Training is performed on aggregated global word-word co-occurrence statistics from a corpus, and the resulting representations showcase interesting linear substructures of the word vector space. "
   ]
  },
  {
   "cell_type": "markdown",
   "metadata": {},
   "source": [
    "#### Read GloVe File"
   ]
  },
  {
   "cell_type": "code",
   "execution_count": 7,
   "metadata": {},
   "outputs": [
    {
     "name": "stdout",
     "output_type": "stream",
     "text": [
      "Loading Glove Model..\n",
      "400000 words loaded!\n"
     ]
    }
   ],
   "source": [
    "words_to_index, index_to_words, word_to_vec_map = read_glove_vecs('./GloVe/glove.6B.50d.txt')"
   ]
  },
  {
   "cell_type": "code",
   "execution_count": 8,
   "metadata": {},
   "outputs": [
    {
     "name": "stdout",
     "output_type": "stream",
     "text": [
      "Word_to_vector map Shape: 50\n"
     ]
    }
   ],
   "source": [
    "print(\"Word_to_vector map Shape:\", len(word_to_vec_map.get('food')))"
   ]
  },
  {
   "cell_type": "code",
   "execution_count": 9,
   "metadata": {},
   "outputs": [
    {
     "name": "stdout",
     "output_type": "stream",
     "text": [
      "Word 'food' has index 151204 in GloVe vector.\n",
      "Index 250000 belong to the word 'morpheus'.\n"
     ]
    }
   ],
   "source": [
    "word = 'food'\n",
    "word_idx = words_to_index.get(word)\n",
    "\n",
    "print(\"Word '%s' has index %d in GloVe vector.\" % (word, word_idx))\n",
    "\n",
    "idx = 250000\n",
    "word = index_to_words.get(idx)\n",
    "print(\"Index %d belong to the word '%s'.\" % (idx, word))"
   ]
  },
  {
   "cell_type": "code",
   "execution_count": 10,
   "metadata": {},
   "outputs": [
    {
     "name": "stdout",
     "output_type": "stream",
     "text": [
      "avg = \n",
      " [-0.008005    0.56370833 -0.50427333  0.258865    0.55131103  0.03104983\n",
      " -0.21013718  0.16893933 -0.09590267  0.141784   -0.15708967  0.18525867\n",
      "  0.6495785   0.38371117  0.21102167  0.11301667  0.02613967  0.26037767\n",
      "  0.05820667 -0.01578167 -0.12078833 -0.02471267  0.4128455   0.5152061\n",
      "  0.38756167 -0.898661   -0.535145    0.33501167  0.68806933 -0.2156265\n",
      "  1.797155    0.10476933 -0.36775333  0.750785    0.10282583  0.348925\n",
      " -0.27262833  0.66768    -0.10706167 -0.283635    0.59580117  0.28747333\n",
      " -0.3366635   0.23393817  0.34349183  0.178405    0.1166155  -0.076433\n",
      "  0.1445417   0.09808667]\n"
     ]
    }
   ],
   "source": [
    "avg = sentence_to_avg(\"Morrocan couscous is my favorite dish\", word_to_vec_map)\n",
    "print(\"avg = \\n\", avg)"
   ]
  },
  {
   "cell_type": "markdown",
   "metadata": {},
   "source": [
    "#### Implementing the V1 model\n",
    "\n",
    "Now that the sentences's average function is created and GloVe word vector is loaded, its time to construct the model. In this case the model uses cross-entropy cost function:\n",
    "\n",
    "$$ z^{(i)} = W . avg^{(i)} + b$$\n",
    "\n",
    "$$ a^{(i)} = softmax(z^{(i)})$$\n",
    "\n",
    "$$ \\mathcal{L}^{(i)} = - \\sum_{k = 0}^{n_y - 1} Y_{oh,k}^{(i)} * log(a^{(i)}_k)$$\n",
    "\n",
    "And the gradients are computed as:\n",
    "\n",
    "$$ \\frac{d}{dx}Z^{(i)} = a^{(i)} - Y_{oh}^{(i)}$$\n",
    "\n",
    "$$ \\frac{d}{dx}W^{(i)} = \\frac{d}{dx}Z{(i)} . avg^{(i)}$$\n",
    "\n",
    "$$ \\frac{d}{dx}b^{(i)} = \\frac{d}{dx}Z^{(i)}$$\n",
    "\n",
    "***Note:*** The $Y_{oh}$ denotes one-hoted $Y$."
   ]
  },
  {
   "cell_type": "code",
   "execution_count": 11,
   "metadata": {},
   "outputs": [],
   "source": [
    "class EmojifierV1:\n",
    "    def __init__(self, word_to_vector_map, lr=0.01, epochs=400, verbose=1):\n",
    "        self.lr = lr\n",
    "        self.epochs = epochs\n",
    "        self.verbose = verbose\n",
    "        self.word_to_vector_map = word_to_vector_map\n",
    "        self.W = None\n",
    "        self.b = None\n",
    "    \n",
    "    def fit(self, X, Y):\n",
    "        assert str(type(X)) == \"<class 'numpy.ndarray'>\"\n",
    "        costs = []\n",
    "        m = X.shape[0]                          \n",
    "        n_y = 5                                 \n",
    "        n_h = len(word_to_vec_map.get('food'))\n",
    "\n",
    "        W = np.random.randn(n_y, n_h) / np.sqrt(n_h)\n",
    "        b = np.zeros((n_y,))\n",
    "        \n",
    "        self.W = W\n",
    "        self.b = b\n",
    "        \n",
    "        Y_oh = one_hot(Y, n_y) \n",
    "\n",
    "        for t in range(self.epochs):\n",
    "            for i in range(m):\n",
    "                avg = sentence_to_avg(X[i], self.word_to_vector_map)\n",
    "\n",
    "                z = np.matmul(self.W, avg) + self.b\n",
    "                a = softmax(z)\n",
    "\n",
    "                cost = -(np.matmul(Y_oh[i], np.log(a)))\n",
    "                \n",
    "                costs.append(cost)\n",
    "                \n",
    "                dz = a - Y_oh[i]\n",
    "                dW = np.dot(dz.reshape(n_y,1), avg.reshape(1, n_h))\n",
    "                db = dz\n",
    "\n",
    "                self.W = self.W - self.lr * dW\n",
    "                self.b = self.b - self.lr * db\n",
    "\n",
    "            if self.verbose and t % 100 == 0:\n",
    "                print(\"Epoch: \" + str(t) + \" --- cost = \" + str(cost))\n",
    "        return costs\n",
    "    \n",
    "    def predict(self, X):\n",
    "        m = X.shape[0]\n",
    "        pred = np.zeros((m, 1))\n",
    "\n",
    "        for j in range(m):\n",
    "            avg = sentence_to_avg(X[j], self.word_to_vector_map)\n",
    "\n",
    "            Z = np.dot(self.W, avg) + self.b\n",
    "            A = softmax(Z)\n",
    "            pred[j] = np.argmax(A)\n",
    "        return pred\n",
    "    \n",
    "    def evaluate(self, X, Y):\n",
    "        pred = self.predict(X)\n",
    "        accuracy = np.mean((pred[:] == Y.reshape(Y.shape[0],1)[:]))\n",
    "        return accuracy"
   ]
  },
  {
   "cell_type": "code",
   "execution_count": 12,
   "metadata": {},
   "outputs": [],
   "source": [
    "if str(type(X_train)) != \"<class 'numpy.ndarray'>\":\n",
    "    X_train = X_train.values\n",
    "    Y_train = Y_train.values\n",
    "    X_test = X_test.values\n",
    "    Y_test = Y_test.values"
   ]
  },
  {
   "cell_type": "code",
   "execution_count": 13,
   "metadata": {},
   "outputs": [
    {
     "name": "stdout",
     "output_type": "stream",
     "text": [
      "Epoch: 0 --- cost = 2.0510213311005927\n",
      "Epoch: 100 --- cost = 0.07373986202200605\n",
      "Epoch: 200 --- cost = 0.043931843817170226\n",
      "Epoch: 300 --- cost = 0.034936321508592744\n",
      "Accuracy: 0.97710\n"
     ]
    }
   ],
   "source": [
    "model = EmojifierV1(word_to_vec_map)\n",
    "cost_list = model.fit(X_train, Y_train)\n",
    "accuracy = model.evaluate(X_train, Y_train)\n",
    "print(\"Accuracy: %.5f\" % accuracy)"
   ]
  },
  {
   "cell_type": "code",
   "execution_count": 14,
   "metadata": {},
   "outputs": [
    {
     "name": "stdout",
     "output_type": "stream",
     "text": [
      "Training set accuracy: 0.97710\n",
      "Test set accuracy: 0.87273\n"
     ]
    }
   ],
   "source": [
    "train_acc = model.evaluate(X_train, Y_train)\n",
    "print(\"Training set accuracy: %.5f\" % train_acc)\n",
    "test_acc = model.evaluate(X_test, Y_test)\n",
    "print('Test set accuracy: %.5f' % test_acc)"
   ]
  },
  {
   "cell_type": "markdown",
   "metadata": {},
   "source": [
    "### Plot Training Costs"
   ]
  },
  {
   "cell_type": "code",
   "execution_count": 15,
   "metadata": {},
   "outputs": [
    {
     "data": {
      "text/plain": [
       "[<matplotlib.lines.Line2D at 0x7f398bc01fd0>]"
      ]
     },
     "execution_count": 15,
     "metadata": {},
     "output_type": "execute_result"
    },
    {
     "data": {
      "image/png": "[encoded data removed]",
      "text/plain": [
       "<Figure size 432x288 with 1 Axes>"
      ]
     },
     "metadata": {
      "needs_background": "light"
     },
     "output_type": "display_data"
    }
   ],
   "source": [
    "plt.plot(cost_list[::1000])"
   ]
  },
  {
   "cell_type": "code",
   "execution_count": 16,
   "metadata": {},
   "outputs": [],
   "source": [
    "def print_predictions(sentences, labels, emoji_dictionary):\n",
    "    for idx, sentence in enumerate(sentences):\n",
    "        print(sentence, label_to_emoji(str(labels[idx]), emoji_dictionary))"
   ]
  },
  {
   "cell_type": "code",
   "execution_count": 17,
   "metadata": {},
   "outputs": [
    {
     "name": "stdout",
     "output_type": "stream",
     "text": [
      "i adore you ❤\n",
      "i love you ❤\n",
      "funny lol 😄\n",
      "lets play with a ball ⚾\n",
      "food is ready 🍴\n",
      "not feeling happy 😞\n"
     ]
    }
   ],
   "source": [
    "X_my_sentences = np.array([\"i adore you\", \"i love you\", \"funny lol\", \"lets play with a ball\", \"food is ready\", \"not feeling happy\"])\n",
    "Y_my_labels = np.array([\"0\", \"0\", \"2\", \"1\", \"4\", \"3\"])\n",
    "\n",
    "predictions = model.predict(X_my_sentences)\n",
    "print_predictions(X_my_sentences, Y_my_labels, emoji_dictionary)"
   ]
  },
  {
   "cell_type": "code",
   "execution_count": 18,
   "metadata": {},
   "outputs": [
    {
     "name": "stdout",
     "output_type": "stream",
     "text": [
      "I do not like you ❤\n"
     ]
    }
   ],
   "source": [
    "sentence = np.array([\"I do not like you\"])\n",
    "prediction = model.predict(sentence)\n",
    "prediction = list(str(int(prediction[0][0])))\n",
    "print_predictions(sentence, prediction[0][0], emoji_dictionary)"
   ]
  },
  {
   "cell_type": "markdown",
   "metadata": {},
   "source": [
    "Amazing! \n",
    "* Because *adore* has a similar embedding as *love*, the algorithm has generalized correctly even to a word it has never seen before. \n",
    "* Words such as *heart*, *dear*, *beloved* or *adore* have embedding vectors similar to *love*. \n",
    "\n",
    "#### Word ordering isn't considered in this model\n",
    "* Note that the model doesn't get the following sentence correct:\n",
    ">I do not like you ❤\n",
    "\n",
    "* And it predicts the lable same as:\n",
    ">I love you ❤\n",
    "\n",
    "* This algorithm ignores word ordering, so is not good at understanding phrases like \"I do not like you\" \n",
    "\n",
    "#### Confusion matrix\n",
    "* Printing the confusion matrix can also help understand which classes are more difficult for your model. \n",
    "* A confusion matrix shows how often an example whose label is one class (\"actual\" class) is mislabeled by the algorithm with a different class (\"predicted\" class)."
   ]
  },
  {
   "cell_type": "code",
   "execution_count": 19,
   "metadata": {},
   "outputs": [],
   "source": [
    "def plot_confusion_matrix(y_actu, y_pred, title='Confusion matrix', cmap=plt.cm.gray_r):\n",
    "    \n",
    "    df_confusion = pd.crosstab(y_actu, y_pred.reshape(y_pred.shape[0],), rownames=['Actual'], colnames=['Predicted'], margins=True)\n",
    "    \n",
    "    df_conf_norm = df_confusion / df_confusion.sum(axis=1)\n",
    "    \n",
    "    plt.matshow(df_confusion, cmap=cmap)\n",
    "    plt.colorbar()\n",
    "    tick_marks = np.arange(len(df_confusion.columns))\n",
    "    plt.xticks(tick_marks, df_confusion.columns, rotation=45)\n",
    "    plt.yticks(tick_marks, df_confusion.index)\n",
    "    plt.ylabel(df_confusion.index.name)\n",
    "    plt.xlabel(df_confusion.columns.name)"
   ]
  },
  {
   "cell_type": "code",
   "execution_count": 20,
   "metadata": {},
   "outputs": [
    {
     "name": "stdout",
     "output_type": "stream",
     "text": [
      "(55,)\n",
      "            ❤    ⚾    😄    😞   🍴\n",
      "Predicted  0.0  1.0  2.0  3.0  4.0  All\n",
      "Actual                                 \n",
      "0            6    0    0    1    0    7\n",
      "1            0    8    0    0    0    8\n",
      "2            2    0   16    0    0   18\n",
      "3            1    1    2   12    0   16\n",
      "4            0    0    0    0    6    6\n",
      "All          9    9   18   13    6   55\n"
     ]
    },
    {
     "data": {
      "image/png": "[encoded data removed]",
      "text/plain": [
       "<Figure size 288x288 with 2 Axes>"
      ]
     },
     "metadata": {
      "needs_background": "light"
     },
     "output_type": "display_data"
    }
   ],
   "source": [
    "print(Y_test.shape)\n",
    "pred_test = model.predict(X_test)\n",
    "print('            ' + label_to_emoji(\"0\", emoji_dictionary)+ '    ' + label_to_emoji(\"1\", emoji_dictionary) + '    ' +  label_to_emoji(\"2\", emoji_dictionary)+ '    ' + label_to_emoji(\"3\", emoji_dictionary)+'   ' + label_to_emoji(\"4\", emoji_dictionary))\n",
    "print(pd.crosstab(Y_test, pred_test.reshape(55,), rownames=['Actual'], colnames=['Predicted'], margins=True))\n",
    "plot_confusion_matrix(Y_test, pred_test)"
   ]
  },
  {
   "cell_type": "markdown",
   "metadata": {},
   "source": [
    "#### V1 Model Conclution\n",
    "- Even with a 127 training examples, you can get a reasonably good model for Emojifying. \n",
    "    - This is due to the generalization power word vectors provides. \n",
    "- Emojify-V1 will perform poorly on sentences such as **\"This movie is not good and not enjoyable\"**\n",
    "    - It doesn't understand combinations of words.\n",
    "    - It just averages all the words' embedding vectors together, without considering the ordering of words."
   ]
  },
  {
   "cell_type": "markdown",
   "metadata": {},
   "source": [
    "## Emojifier-V2: Using LSTMs in Keras: \n",
    "\n",
    "Let's build an LSTM model that takes word **sequences** as input!\n",
    "* This model will be able to account for the word ordering. \n",
    "* Emojifier-V2 will continue to use pre-trained word embeddings to represent words.\n",
    "* We will feed word embeddings into an LSTM.\n",
    "* The LSTM will learn to predict the most appropriate emoji. "
   ]
  },
  {
   "cell_type": "markdown",
   "metadata": {},
   "source": [
    "![Emojifier-V2](./images/emojifier-v2.png)"
   ]
  },
  {
   "cell_type": "code",
   "execution_count": 21,
   "metadata": {},
   "outputs": [],
   "source": [
    "def sentences_to_indices(X, word_to_index, max_len):\n",
    "    m = X.shape[0] \n",
    "    X_indices = np.zeros((m, max_len))\n",
    "    for i in range(m):\n",
    "        sentence_words = [word.lower().replace('\\t', '') for word in X[i].split(' ') if word.replace('\\t', '') != '']\n",
    "        j = 0\n",
    "        for w in sentence_words:\n",
    "            X_indices[i, j] = word_to_index[w]\n",
    "            j += 1\n",
    "    return X_indices"
   ]
  },
  {
   "cell_type": "code",
   "execution_count": 22,
   "metadata": {},
   "outputs": [
    {
     "name": "stdout",
     "output_type": "stream",
     "text": [
      "X1 = ['funny lol' 'lets play baseball' 'food is ready for you']\n",
      "X1_indices =\n",
      " [[155345. 225122.      0.      0.      0.]\n",
      " [220930. 286375.  69714.      0.      0.]\n",
      " [151204. 192973. 302254. 151349. 394475.]]\n"
     ]
    }
   ],
   "source": [
    "X1 = np.array([\"funny lol\", \"lets play baseball\", \"food is ready for you\"])\n",
    "X1_indices = sentences_to_indices(X1, words_to_index, max_len = 5)\n",
    "print(\"X1 =\", X1)\n",
    "print(\"X1_indices =\\n\", X1_indices)"
   ]
  },
  {
   "cell_type": "code",
   "execution_count": 23,
   "metadata": {},
   "outputs": [],
   "source": [
    "def pretrained_embedding_layer(word_to_vec_map, word_to_index):\n",
    "    vocab_len = len(word_to_index) + 1 \n",
    "    emb_dim = word_to_vec_map[\"cucumber\"].shape[0]\n",
    "    emb_matrix = np.zeros((vocab_len, emb_dim))\n",
    "    for word, idx in word_to_index.items():\n",
    "        emb_matrix[idx, :] = word_to_vec_map[word]\n",
    "    embedding_layer = Embedding(input_dim=vocab_len, output_dim=emb_dim, trainable=False)\n",
    "    embedding_layer.build((None,))\n",
    "    embedding_layer.set_weights([emb_matrix])\n",
    "    return embedding_layer"
   ]
  },
  {
   "cell_type": "code",
   "execution_count": 24,
   "metadata": {},
   "outputs": [
    {
     "name": "stdout",
     "output_type": "stream",
     "text": [
      "WARNING:tensorflow:From /home/ubuntu/anaconda3/envs/tensorflow_p36/lib/python3.6/site-packages/keras/backend/tensorflow_backend.py:74: The name tf.get_default_graph is deprecated. Please use tf.compat.v1.get_default_graph instead.\n",
      "\n",
      "WARNING:tensorflow:From /home/ubuntu/anaconda3/envs/tensorflow_p36/lib/python3.6/site-packages/keras/backend/tensorflow_backend.py:4138: The name tf.random_uniform is deprecated. Please use tf.random.uniform instead.\n",
      "\n",
      "WARNING:tensorflow:From /home/ubuntu/anaconda3/envs/tensorflow_p36/lib/python3.6/site-packages/keras/backend/tensorflow_backend.py:174: The name tf.get_default_session is deprecated. Please use tf.compat.v1.get_default_session instead.\n",
      "\n",
      "WARNING:tensorflow:From /home/ubuntu/anaconda3/envs/tensorflow_p36/lib/python3.6/site-packages/keras/backend/tensorflow_backend.py:181: The name tf.ConfigProto is deprecated. Please use tf.compat.v1.ConfigProto instead.\n",
      "\n",
      "WARNING:tensorflow:From /home/ubuntu/anaconda3/envs/tensorflow_p36/lib/python3.6/site-packages/keras/backend/tensorflow_backend.py:186: The name tf.Session is deprecated. Please use tf.compat.v1.Session instead.\n",
      "\n",
      "WARNING:tensorflow:From /home/ubuntu/anaconda3/envs/tensorflow_p36/lib/python3.6/site-packages/keras/backend/tensorflow_backend.py:190: The name tf.global_variables is deprecated. Please use tf.compat.v1.global_variables instead.\n",
      "\n",
      "WARNING:tensorflow:From /home/ubuntu/anaconda3/envs/tensorflow_p36/lib/python3.6/site-packages/keras/backend/tensorflow_backend.py:199: The name tf.is_variable_initialized is deprecated. Please use tf.compat.v1.is_variable_initialized instead.\n",
      "\n",
      "WARNING:tensorflow:From /home/ubuntu/anaconda3/envs/tensorflow_p36/lib/python3.6/site-packages/keras/backend/tensorflow_backend.py:206: The name tf.variables_initializer is deprecated. Please use tf.compat.v1.variables_initializer instead.\n",
      "\n",
      "WARNING:tensorflow:From /home/ubuntu/anaconda3/envs/tensorflow_p36/lib/python3.6/site-packages/keras/backend/tensorflow_backend.py:2463: The name tf.placeholder is deprecated. Please use tf.compat.v1.placeholder instead.\n",
      "\n",
      "(1, 400001, 50)\n"
     ]
    }
   ],
   "source": [
    "embedding_layer = pretrained_embedding_layer(word_to_vec_map, words_to_index)\n",
    "print(np.asarray(embedding_layer.get_weights()).shape)"
   ]
  },
  {
   "cell_type": "markdown",
   "metadata": {},
   "source": [
    "### Emojifier-V2 (Keras)"
   ]
  },
  {
   "cell_type": "code",
   "execution_count": 25,
   "metadata": {},
   "outputs": [],
   "source": [
    "def Emojify_V2_Keras(input_shape, word_to_vec_map, word_to_index):\n",
    "    sentence_indices = Input(shape=input_shape, dtype='int32')\n",
    "    embedding_layer = pretrained_embedding_layer(word_to_vec_map, word_to_index)\n",
    "    embeddings = embedding_layer(sentence_indices)   \n",
    "    X = LSTM(128, return_sequences=True)(embeddings)\n",
    "    X = Dropout(0.5)(X)\n",
    "    X = Bidirectional(LSTM(128))(X)\n",
    "    X = Dropout(0.5)(X)\n",
    "    X = Dense(5)(X)\n",
    "    X = Activation('softmax')(X)\n",
    "    \n",
    "    model = Model(inputs=[sentence_indices], outputs=X)\n",
    "    return model"
   ]
  },
  {
   "cell_type": "code",
   "execution_count": 26,
   "metadata": {},
   "outputs": [],
   "source": [
    "maxLen = len(max(X_train, key=len).split())\n",
    "X_train_indices = sentences_to_indices(X_train, words_to_index, maxLen)\n",
    "Y_train_oh = one_hot(Y_train, C = 5)"
   ]
  },
  {
   "cell_type": "code",
   "execution_count": 27,
   "metadata": {},
   "outputs": [
    {
     "name": "stdout",
     "output_type": "stream",
     "text": [
      "WARNING:tensorflow:From /home/ubuntu/anaconda3/envs/tensorflow_p36/lib/python3.6/site-packages/keras/backend/tensorflow_backend.py:133: The name tf.placeholder_with_default is deprecated. Please use tf.compat.v1.placeholder_with_default instead.\n",
      "\n",
      "WARNING:tensorflow:From /home/ubuntu/anaconda3/envs/tensorflow_p36/lib/python3.6/site-packages/keras/backend/tensorflow_backend.py:3445: calling dropout (from tensorflow.python.ops.nn_ops) with keep_prob is deprecated and will be removed in a future version.\n",
      "Instructions for updating:\n",
      "Please use `rate` instead of `keep_prob`. Rate should be set to `rate = 1 - keep_prob`.\n",
      "_________________________________________________________________\n",
      "Layer (type)                 Output Shape              Param #   \n",
      "=================================================================\n",
      "input_1 (InputLayer)         (None, 10)                0         \n",
      "_________________________________________________________________\n",
      "embedding_2 (Embedding)      (None, 10, 50)            20000050  \n",
      "_________________________________________________________________\n",
      "lstm_1 (LSTM)                (None, 10, 128)           91648     \n",
      "_________________________________________________________________\n",
      "dropout_1 (Dropout)          (None, 10, 128)           0         \n",
      "_________________________________________________________________\n",
      "bidirectional_1 (Bidirection (None, 256)               263168    \n",
      "_________________________________________________________________\n",
      "dropout_2 (Dropout)          (None, 256)               0         \n",
      "_________________________________________________________________\n",
      "dense_1 (Dense)              (None, 5)                 1285      \n",
      "_________________________________________________________________\n",
      "activation_1 (Activation)    (None, 5)                 0         \n",
      "=================================================================\n",
      "Total params: 20,356,151\n",
      "Trainable params: 356,101\n",
      "Non-trainable params: 20,000,050\n",
      "_________________________________________________________________\n"
     ]
    }
   ],
   "source": [
    "model = Emojify_V2_Keras((maxLen,), word_to_vec_map, words_to_index)\n",
    "model.summary()"
   ]
  },
  {
   "cell_type": "code",
   "execution_count": 28,
   "metadata": {},
   "outputs": [
    {
     "name": "stdout",
     "output_type": "stream",
     "text": [
      "WARNING:tensorflow:From /home/ubuntu/anaconda3/envs/tensorflow_p36/lib/python3.6/site-packages/keras/optimizers.py:790: The name tf.train.Optimizer is deprecated. Please use tf.compat.v1.train.Optimizer instead.\n",
      "\n",
      "WARNING:tensorflow:From /home/ubuntu/anaconda3/envs/tensorflow_p36/lib/python3.6/site-packages/keras/backend/tensorflow_backend.py:3295: The name tf.log is deprecated. Please use tf.math.log instead.\n",
      "\n"
     ]
    }
   ],
   "source": [
    "model.compile(loss='categorical_crossentropy', optimizer='adam', metrics=['accuracy'])"
   ]
  },
  {
   "cell_type": "code",
   "execution_count": 29,
   "metadata": {},
   "outputs": [
    {
     "name": "stdout",
     "output_type": "stream",
     "text": [
      "WARNING:tensorflow:From /home/ubuntu/anaconda3/envs/tensorflow_p36/lib/python3.6/site-packages/tensorflow_core/python/ops/math_grad.py:1424: where (from tensorflow.python.ops.array_ops) is deprecated and will be removed in a future version.\n",
      "Instructions for updating:\n",
      "Use tf.where in 2.0, which has the same broadcast rule as np.where\n",
      "WARNING:tensorflow:From /home/ubuntu/anaconda3/envs/tensorflow_p36/lib/python3.6/site-packages/keras/backend/tensorflow_backend.py:986: The name tf.assign_add is deprecated. Please use tf.compat.v1.assign_add instead.\n",
      "\n",
      "WARNING:tensorflow:From /home/ubuntu/anaconda3/envs/tensorflow_p36/lib/python3.6/site-packages/keras/backend/tensorflow_backend.py:973: The name tf.assign is deprecated. Please use tf.compat.v1.assign instead.\n",
      "\n",
      "Epoch 1/50\n",
      "131/131 [==============================] - 2s 17ms/step - loss: 1.5733 - acc: 0.2901\n",
      "Epoch 2/50\n",
      "131/131 [==============================] - 0s 1ms/step - loss: 1.5109 - acc: 0.3740\n",
      "Epoch 3/50\n",
      "131/131 [==============================] - 0s 1ms/step - loss: 1.4458 - acc: 0.4122\n",
      "Epoch 4/50\n",
      "131/131 [==============================] - 0s 1ms/step - loss: 1.4122 - acc: 0.4046\n",
      "Epoch 5/50\n",
      "131/131 [==============================] - 0s 1ms/step - loss: 1.3256 - acc: 0.4962\n",
      "Epoch 6/50\n",
      "131/131 [==============================] - 0s 1ms/step - loss: 1.2082 - acc: 0.5802\n",
      "Epoch 7/50\n",
      "131/131 [==============================] - 0s 1ms/step - loss: 1.0545 - acc: 0.6183\n",
      "Epoch 8/50\n",
      "131/131 [==============================] - 0s 1ms/step - loss: 0.9511 - acc: 0.6336\n",
      "Epoch 9/50\n",
      "131/131 [==============================] - 0s 1ms/step - loss: 0.9854 - acc: 0.6718\n",
      "Epoch 10/50\n",
      "131/131 [==============================] - 0s 1ms/step - loss: 0.7833 - acc: 0.6947\n",
      "Epoch 11/50\n",
      "131/131 [==============================] - 0s 1ms/step - loss: 0.7968 - acc: 0.7405\n",
      "Epoch 12/50\n",
      "131/131 [==============================] - 0s 1ms/step - loss: 0.7600 - acc: 0.7252\n",
      "Epoch 13/50\n",
      "131/131 [==============================] - 0s 1ms/step - loss: 0.6586 - acc: 0.7481\n",
      "Epoch 14/50\n",
      "131/131 [==============================] - 0s 1ms/step - loss: 0.6148 - acc: 0.7786\n",
      "Epoch 15/50\n",
      "131/131 [==============================] - 0s 1ms/step - loss: 0.5202 - acc: 0.8244\n",
      "Epoch 16/50\n",
      "131/131 [==============================] - 0s 1ms/step - loss: 0.4877 - acc: 0.8397\n",
      "Epoch 17/50\n",
      "131/131 [==============================] - 0s 1ms/step - loss: 0.4195 - acc: 0.8779\n",
      "Epoch 18/50\n",
      "131/131 [==============================] - 0s 1ms/step - loss: 0.3340 - acc: 0.8779\n",
      "Epoch 19/50\n",
      "131/131 [==============================] - 0s 1ms/step - loss: 0.5124 - acc: 0.8244\n",
      "Epoch 20/50\n",
      "131/131 [==============================] - 0s 1ms/step - loss: 0.4022 - acc: 0.8397\n",
      "Epoch 21/50\n",
      "131/131 [==============================] - 0s 1ms/step - loss: 0.3117 - acc: 0.9008\n",
      "Epoch 22/50\n",
      "131/131 [==============================] - 0s 1ms/step - loss: 0.3272 - acc: 0.8626\n",
      "Epoch 23/50\n",
      "131/131 [==============================] - 0s 1ms/step - loss: 0.2409 - acc: 0.9160\n",
      "Epoch 24/50\n",
      "131/131 [==============================] - 0s 1ms/step - loss: 0.3342 - acc: 0.9008\n",
      "Epoch 25/50\n",
      "131/131 [==============================] - 0s 1ms/step - loss: 0.2232 - acc: 0.8931\n",
      "Epoch 26/50\n",
      "131/131 [==============================] - 0s 1ms/step - loss: 0.2291 - acc: 0.9313\n",
      "Epoch 27/50\n",
      "131/131 [==============================] - 0s 1ms/step - loss: 0.3630 - acc: 0.8779\n",
      "Epoch 28/50\n",
      "131/131 [==============================] - 0s 1ms/step - loss: 0.3169 - acc: 0.8779\n",
      "Epoch 29/50\n",
      "131/131 [==============================] - 0s 1ms/step - loss: 0.1942 - acc: 0.9389\n",
      "Epoch 30/50\n",
      "131/131 [==============================] - 0s 1ms/step - loss: 0.2061 - acc: 0.9313\n",
      "Epoch 31/50\n",
      "131/131 [==============================] - 0s 1ms/step - loss: 0.3936 - acc: 0.8779\n",
      "Epoch 32/50\n",
      "131/131 [==============================] - 0s 1ms/step - loss: 0.7409 - acc: 0.7939\n",
      "Epoch 33/50\n",
      "131/131 [==============================] - 0s 1ms/step - loss: 0.5205 - acc: 0.7786\n",
      "Epoch 34/50\n",
      "131/131 [==============================] - 0s 1ms/step - loss: 0.5781 - acc: 0.7405\n",
      "Epoch 35/50\n",
      "131/131 [==============================] - 0s 1ms/step - loss: 0.4310 - acc: 0.7863\n",
      "Epoch 36/50\n",
      "131/131 [==============================] - 0s 1ms/step - loss: 0.3351 - acc: 0.8855\n",
      "Epoch 37/50\n",
      "131/131 [==============================] - 0s 1ms/step - loss: 0.4759 - acc: 0.7557\n",
      "Epoch 38/50\n",
      "131/131 [==============================] - 0s 1ms/step - loss: 0.4083 - acc: 0.8168\n",
      "Epoch 39/50\n",
      "131/131 [==============================] - 0s 1ms/step - loss: 0.2492 - acc: 0.9389\n",
      "Epoch 40/50\n",
      "131/131 [==============================] - 0s 1ms/step - loss: 0.2528 - acc: 0.9160\n",
      "Epoch 41/50\n",
      "131/131 [==============================] - 0s 1ms/step - loss: 0.3360 - acc: 0.8168\n",
      "Epoch 42/50\n",
      "131/131 [==============================] - 0s 1ms/step - loss: 0.1845 - acc: 0.9237\n",
      "Epoch 43/50\n",
      "131/131 [==============================] - 0s 1ms/step - loss: 0.1546 - acc: 0.9466\n",
      "Epoch 44/50\n",
      "131/131 [==============================] - 0s 1ms/step - loss: 0.1255 - acc: 0.9542\n",
      "Epoch 45/50\n",
      "131/131 [==============================] - 0s 1ms/step - loss: 0.1245 - acc: 0.9466\n",
      "Epoch 46/50\n",
      "131/131 [==============================] - 0s 1ms/step - loss: 0.1572 - acc: 0.9466\n",
      "Epoch 47/50\n",
      "131/131 [==============================] - 0s 1ms/step - loss: 0.1260 - acc: 0.9618\n",
      "Epoch 48/50\n",
      "131/131 [==============================] - 0s 1ms/step - loss: 0.0915 - acc: 0.9618\n",
      "Epoch 49/50\n",
      "131/131 [==============================] - 0s 1ms/step - loss: 0.0692 - acc: 0.9924\n",
      "Epoch 50/50\n",
      "131/131 [==============================] - 0s 1ms/step - loss: 0.0513 - acc: 0.9924\n"
     ]
    },
    {
     "data": {
      "text/plain": [
       "<keras.callbacks.History at 0x7f3986013da0>"
      ]
     },
     "execution_count": 29,
     "metadata": {},
     "output_type": "execute_result"
    }
   ],
   "source": [
    "model.fit(X_train_indices, Y_train_oh, epochs = 50, batch_size = 32, shuffle=True)"
   ]
  },
  {
   "cell_type": "markdown",
   "metadata": {},
   "source": [
    "#### Mislabeled sentences"
   ]
  },
  {
   "cell_type": "code",
   "execution_count": 35,
   "metadata": {},
   "outputs": [
    {
     "name": "stdout",
     "output_type": "stream",
     "text": [
      "Expected emoji: 😞 prediction: work is hard\t😄\n",
      "Expected emoji: 😞 prediction: This girl is messing with me\t❤\n",
      "Expected emoji: ❤ prediction: I love taking breaks\t😞\n",
      "Expected emoji: 😄 prediction: you brighten my day\t❤\n",
      "Expected emoji: 😞 prediction: she is a bully\t❤\n",
      "Expected emoji: ❤ prediction: I love you to the stars and back\t😄\n"
     ]
    }
   ],
   "source": [
    "y_test_oh = one_hot(Y_test, 5)\n",
    "X_test_indices = sentences_to_indices(X_test, words_to_index, maxLen)\n",
    "pred = model.predict(X_test_indices)\n",
    "for i in range(len(X_test)):\n",
    "    x = X_test_indices\n",
    "    num = np.argmax(pred[i])\n",
    "    if(num != Y_test[i]):\n",
    "        print('Expected emoji: ' + label_to_emoji(str(Y_test[i]), emoji_dictionary) + ' prediction: ' + X_test[i] + label_to_emoji(str(num), emoji_dictionary))"
   ]
  },
  {
   "cell_type": "markdown",
   "metadata": {},
   "source": [
    "### Test your own sentence!"
   ]
  },
  {
   "cell_type": "code",
   "execution_count": 40,
   "metadata": {},
   "outputs": [
    {
     "name": "stdout",
     "output_type": "stream",
     "text": [
      "He is messing with me ! 😄\n"
     ]
    }
   ],
   "source": [
    "x_test = np.array(['He is messing with me !'])\n",
    "X_test_indices = sentences_to_indices(x_test, words_to_index, maxLen)\n",
    "print(x_test[0] +' '+  label_to_emoji(str(np.argmax(model.predict(X_test_indices))), emoji_dictionary))"
   ]
  },
  {
   "cell_type": "markdown",
   "metadata": {},
   "source": [
    "### Save Model"
   ]
  },
  {
   "cell_type": "code",
   "execution_count": 44,
   "metadata": {},
   "outputs": [
    {
     "name": "stdout",
     "output_type": "stream",
     "text": [
      "131/131 [==============================] - 1s 4ms/step\n"
     ]
    },
    {
     "data": {
      "text/plain": [
       "[0.04560496577751318, 0.9923664122137404]"
      ]
     },
     "execution_count": 44,
     "metadata": {},
     "output_type": "execute_result"
    }
   ],
   "source": [
    "model.save('./model/model.h5')\n",
    "model.evaluate(X_train_indices, Y_train_oh)"
   ]
  },
  {
   "cell_type": "code",
   "execution_count": 45,
   "metadata": {},
   "outputs": [],
   "source": [
    "model = load_model('./model/model.h5')"
   ]
  },
  {
   "cell_type": "code",
   "execution_count": 47,
   "metadata": {},
   "outputs": [
    {
     "name": "stdout",
     "output_type": "stream",
     "text": [
      "131/131 [==============================] - 1s 5ms/step\n"
     ]
    },
    {
     "data": {
      "text/plain": [
       "[0.04560496577751318, 0.9923664122137404]"
      ]
     },
     "execution_count": 47,
     "metadata": {},
     "output_type": "execute_result"
    }
   ],
   "source": [
    "model.evaluate(X_train_indices, Y_train_oh)"
   ]
  },
  {
   "cell_type": "code",
   "execution_count": null,
   "metadata": {},
   "outputs": [],
   "source": []
  }
 ],
 "metadata": {
  "kernelspec": {
   "display_name": "Environment (conda_tensorflow_p36)",
   "language": "python",
   "name": "conda_tensorflow_p36"
  },
  "language_info": {
   "codemirror_mode": {
    "name": "ipython",
    "version": 3
   },
   "file_extension": ".py",
   "mimetype": "text/x-python",
   "name": "python",
   "nbconvert_exporter": "python",
   "pygments_lexer": "ipython3",
   "version": "3.6.10"
  }
 },
 "nbformat": 4,
 "nbformat_minor": 4
}
